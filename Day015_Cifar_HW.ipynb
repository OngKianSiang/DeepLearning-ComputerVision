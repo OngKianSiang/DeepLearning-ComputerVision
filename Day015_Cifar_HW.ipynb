{
 "cells": [
  {
   "cell_type": "markdown",
   "metadata": {},
   "source": [
    "## 『本次練習內容』\n",
    "#### 運用這幾天所學觀念搭建一個CNN分類器"
   ]
  },
  {
   "cell_type": "markdown",
   "metadata": {},
   "source": [
    "## 『本次練習目的』\n",
    "  #### 熟悉CNN分類器搭建步驟與原理\n",
    "  #### 學員們可以嘗試不同搭法，如使用不同的Maxpooling層，用GlobalAveragePooling取代Flatten等等"
   ]
  },
  {
   "cell_type": "code",
   "execution_count": 1,
   "metadata": {},
   "outputs": [
    {
     "name": "stderr",
     "output_type": "stream",
     "text": [
      "Using TensorFlow backend.\n"
     ]
    }
   ],
   "source": [
    "from keras.models import Sequential\n",
    "from keras.layers import Convolution2D\n",
    "from keras.layers import MaxPooling2D\n",
    "from keras.layers import Flatten\n",
    "from keras.layers import Dense\n",
    "from keras.layers import Dropout\n",
    "from keras.layers import BatchNormalization\n",
    "from keras.datasets import cifar10\n",
    "import numpy as np\n",
    "import tensorflow as tf\n",
    "from sklearn.preprocessing import OneHotEncoder\n"
   ]
  },
  {
   "cell_type": "code",
   "execution_count": 2,
   "metadata": {},
   "outputs": [
    {
     "name": "stdout",
     "output_type": "stream",
     "text": [
      "(50000, 32, 32, 3)\n"
     ]
    }
   ],
   "source": [
    "(x_train, y_train), (x_test, y_test) = cifar10.load_data()\n",
    "\n",
    "print(x_train.shape) #(50000, 32, 32, 3)\n",
    "\n",
    "## Normalize Data\n",
    "def normalize(X_train,X_test):\n",
    "        mean = np.mean(X_train,axis=(0,1,2,3))\n",
    "        std = np.std(X_train, axis=(0, 1, 2, 3))\n",
    "        X_train = (X_train-mean)/(std+1e-7)\n",
    "        X_test = (X_test-mean)/(std+1e-7) \n",
    "        return X_train, X_test,mean,std\n",
    "    \n",
    "    \n",
    "## Normalize Training and Testset    \n",
    "x_train, x_test,mean_train,std_train = normalize(x_train, x_test) "
   ]
  },
  {
   "cell_type": "code",
   "execution_count": 3,
   "metadata": {},
   "outputs": [],
   "source": [
    "## OneHot Label 由(None, 1)-(None, 10)\n",
    "## ex. label=2,變成[0,0,1,0,0,0,0,0,0,0]\n",
    "one_hot=OneHotEncoder()\n",
    "y_train=one_hot.fit_transform(y_train).toarray()\n",
    "y_test=one_hot.transform(y_test).toarray()"
   ]
  },
  {
   "cell_type": "code",
   "execution_count": 6,
   "metadata": {},
   "outputs": [
    {
     "name": "stderr",
     "output_type": "stream",
     "text": [
      "/home/wulabasus/anaconda3/lib/python3.7/site-packages/ipykernel_launcher.py:21: UserWarning: Update your `Dense` call to the Keras 2 API: `Dense(activation=\"softmax\", units=10)`\n"
     ]
    },
    {
     "name": "stdout",
     "output_type": "stream",
     "text": [
      "Epoch 1/100\n",
      "50000/50000 [==============================] - 12s 237us/step - loss: 1.3687 - accuracy: 0.5552\n",
      "Epoch 2/100\n",
      "50000/50000 [==============================] - 7s 149us/step - loss: 0.7821 - accuracy: 0.7280\n",
      "Epoch 3/100\n",
      "50000/50000 [==============================] - 8s 150us/step - loss: 0.5282 - accuracy: 0.8151\n",
      "Epoch 4/100\n",
      "50000/50000 [==============================] - 8s 153us/step - loss: 0.3302 - accuracy: 0.8868\n",
      "Epoch 5/100\n",
      "50000/50000 [==============================] - 8s 150us/step - loss: 0.2079 - accuracy: 0.9300\n",
      "Epoch 6/100\n",
      "50000/50000 [==============================] - 8s 150us/step - loss: 0.1524 - accuracy: 0.9477\n",
      "Epoch 7/100\n",
      "50000/50000 [==============================] - 8s 150us/step - loss: 0.1299 - accuracy: 0.9554\n",
      "Epoch 8/100\n",
      "50000/50000 [==============================] - 8s 150us/step - loss: 0.1211 - accuracy: 0.9586\n",
      "Epoch 9/100\n",
      "50000/50000 [==============================] - 8s 150us/step - loss: 0.1044 - accuracy: 0.9639\n",
      "Epoch 10/100\n",
      "50000/50000 [==============================] - 8s 150us/step - loss: 0.0911 - accuracy: 0.9683\n",
      "Epoch 11/100\n",
      "50000/50000 [==============================] - 8s 150us/step - loss: 0.0704 - accuracy: 0.9769\n",
      "Epoch 12/100\n",
      "50000/50000 [==============================] - 8s 151us/step - loss: 0.0673 - accuracy: 0.9769\n",
      "Epoch 13/100\n",
      "50000/50000 [==============================] - 8s 150us/step - loss: 0.0765 - accuracy: 0.9746\n",
      "Epoch 14/100\n",
      "50000/50000 [==============================] - 8s 151us/step - loss: 0.0736 - accuracy: 0.9755\n",
      "Epoch 15/100\n",
      "50000/50000 [==============================] - 8s 151us/step - loss: 0.0586 - accuracy: 0.9799\n",
      "Epoch 16/100\n",
      "50000/50000 [==============================] - 8s 151us/step - loss: 0.0541 - accuracy: 0.9825\n",
      "Epoch 17/100\n",
      "50000/50000 [==============================] - 8s 151us/step - loss: 0.0464 - accuracy: 0.9847\n",
      "Epoch 18/100\n",
      "50000/50000 [==============================] - 8s 151us/step - loss: 0.0581 - accuracy: 0.9808\n",
      "Epoch 19/100\n",
      "50000/50000 [==============================] - 8s 151us/step - loss: 0.0481 - accuracy: 0.9839\n",
      "Epoch 20/100\n",
      "50000/50000 [==============================] - 8s 151us/step - loss: 0.0406 - accuracy: 0.9866\n",
      "Epoch 21/100\n",
      "50000/50000 [==============================] - 8s 151us/step - loss: 0.0472 - accuracy: 0.9849\n",
      "Epoch 22/100\n",
      "50000/50000 [==============================] - 7s 150us/step - loss: 0.0466 - accuracy: 0.9856\n",
      "Epoch 23/100\n",
      "50000/50000 [==============================] - 7s 150us/step - loss: 0.0525 - accuracy: 0.9829\n",
      "Epoch 24/100\n",
      "50000/50000 [==============================] - 7s 149us/step - loss: 0.0372 - accuracy: 0.9880\n",
      "Epoch 25/100\n",
      "50000/50000 [==============================] - 8s 151us/step - loss: 0.0386 - accuracy: 0.9869\n",
      "Epoch 26/100\n",
      "50000/50000 [==============================] - 8s 150us/step - loss: 0.0361 - accuracy: 0.9886\n",
      "Epoch 27/100\n",
      "50000/50000 [==============================] - 7s 150us/step - loss: 0.0327 - accuracy: 0.9894\n",
      "Epoch 28/100\n",
      "50000/50000 [==============================] - 8s 152us/step - loss: 0.0344 - accuracy: 0.9897\n",
      "Epoch 29/100\n",
      "50000/50000 [==============================] - 8s 153us/step - loss: 0.0338 - accuracy: 0.9892\n",
      "Epoch 30/100\n",
      "50000/50000 [==============================] - 8s 151us/step - loss: 0.0258 - accuracy: 0.9918\n",
      "Epoch 31/100\n",
      "50000/50000 [==============================] - 8s 151us/step - loss: 0.0311 - accuracy: 0.9900\n",
      "Epoch 32/100\n",
      "50000/50000 [==============================] - 8s 151us/step - loss: 0.0336 - accuracy: 0.9893\n",
      "Epoch 33/100\n",
      "50000/50000 [==============================] - 8s 151us/step - loss: 0.0345 - accuracy: 0.9890\n",
      "Epoch 34/100\n",
      "50000/50000 [==============================] - 8s 151us/step - loss: 0.0310 - accuracy: 0.9900\n",
      "Epoch 35/100\n",
      "50000/50000 [==============================] - 8s 151us/step - loss: 0.0184 - accuracy: 0.9941\n",
      "Epoch 36/100\n",
      "50000/50000 [==============================] - 8s 151us/step - loss: 0.0310 - accuracy: 0.9899\n",
      "Epoch 37/100\n",
      "50000/50000 [==============================] - 8s 151us/step - loss: 0.0246 - accuracy: 0.9921\n",
      "Epoch 38/100\n",
      "50000/50000 [==============================] - 8s 152us/step - loss: 0.0298 - accuracy: 0.9909\n",
      "Epoch 39/100\n",
      "50000/50000 [==============================] - 8s 152us/step - loss: 0.0283 - accuracy: 0.9913\n",
      "Epoch 40/100\n",
      "50000/50000 [==============================] - 8s 151us/step - loss: 0.0293 - accuracy: 0.9910\n",
      "Epoch 41/100\n",
      "50000/50000 [==============================] - 8s 151us/step - loss: 0.0224 - accuracy: 0.9933\n",
      "Epoch 42/100\n",
      "50000/50000 [==============================] - 8s 151us/step - loss: 0.0221 - accuracy: 0.9931\n",
      "Epoch 43/100\n",
      "50000/50000 [==============================] - 8s 152us/step - loss: 0.0184 - accuracy: 0.9939\n",
      "Epoch 44/100\n",
      "50000/50000 [==============================] - 8s 152us/step - loss: 0.0276 - accuracy: 0.9909\n",
      "Epoch 45/100\n",
      "50000/50000 [==============================] - 8s 151us/step - loss: 0.0248 - accuracy: 0.9922\n",
      "Epoch 46/100\n",
      "50000/50000 [==============================] - 8s 152us/step - loss: 0.0235 - accuracy: 0.9927\n",
      "Epoch 47/100\n",
      "50000/50000 [==============================] - 8s 151us/step - loss: 0.0220 - accuracy: 0.9934\n",
      "Epoch 48/100\n",
      "50000/50000 [==============================] - 8s 151us/step - loss: 0.0150 - accuracy: 0.9951\n",
      "Epoch 49/100\n",
      "50000/50000 [==============================] - 8s 151us/step - loss: 0.0186 - accuracy: 0.9940\n",
      "Epoch 50/100\n",
      "50000/50000 [==============================] - 8s 151us/step - loss: 0.0253 - accuracy: 0.9928\n",
      "Epoch 51/100\n",
      "50000/50000 [==============================] - 8s 151us/step - loss: 0.0206 - accuracy: 0.9935\n",
      "Epoch 52/100\n",
      "50000/50000 [==============================] - 8s 152us/step - loss: 0.0253 - accuracy: 0.9925\n",
      "Epoch 53/100\n",
      "50000/50000 [==============================] - 8s 152us/step - loss: 0.0204 - accuracy: 0.9937\n",
      "Epoch 54/100\n",
      "50000/50000 [==============================] - 8s 151us/step - loss: 0.0202 - accuracy: 0.9944\n",
      "Epoch 55/100\n",
      "50000/50000 [==============================] - 8s 152us/step - loss: 0.0157 - accuracy: 0.9948\n",
      "Epoch 56/100\n",
      "50000/50000 [==============================] - 8s 152us/step - loss: 0.0186 - accuracy: 0.9941\n",
      "Epoch 57/100\n",
      "50000/50000 [==============================] - 8s 153us/step - loss: 0.0189 - accuracy: 0.9941\n",
      "Epoch 58/100\n",
      "50000/50000 [==============================] - 8s 151us/step - loss: 0.0142 - accuracy: 0.9956\n",
      "Epoch 59/100\n",
      "50000/50000 [==============================] - 8s 152us/step - loss: 0.0251 - accuracy: 0.9926\n",
      "Epoch 60/100\n",
      "50000/50000 [==============================] - 8s 152us/step - loss: 0.0213 - accuracy: 0.9936\n",
      "Epoch 61/100\n",
      "50000/50000 [==============================] - 8s 151us/step - loss: 0.0138 - accuracy: 0.9956\n",
      "Epoch 62/100\n",
      "50000/50000 [==============================] - 8s 151us/step - loss: 0.0180 - accuracy: 0.9946\n",
      "Epoch 63/100\n",
      "50000/50000 [==============================] - 8s 151us/step - loss: 0.0226 - accuracy: 0.9934\n",
      "Epoch 64/100\n",
      "50000/50000 [==============================] - 8s 150us/step - loss: 0.0175 - accuracy: 0.9949\n",
      "Epoch 65/100\n",
      "50000/50000 [==============================] - 8s 151us/step - loss: 0.0160 - accuracy: 0.9951\n",
      "Epoch 66/100\n",
      "50000/50000 [==============================] - 8s 151us/step - loss: 0.0187 - accuracy: 0.9945\n",
      "Epoch 67/100\n",
      "50000/50000 [==============================] - 8s 151us/step - loss: 0.0156 - accuracy: 0.9950\n",
      "Epoch 68/100\n",
      "50000/50000 [==============================] - 8s 151us/step - loss: 0.0173 - accuracy: 0.9948\n",
      "Epoch 69/100\n",
      "50000/50000 [==============================] - 8s 150us/step - loss: 0.0181 - accuracy: 0.9947\n",
      "Epoch 70/100\n",
      "50000/50000 [==============================] - 8s 151us/step - loss: 0.0167 - accuracy: 0.9951\n",
      "Epoch 71/100\n",
      "50000/50000 [==============================] - 8s 151us/step - loss: 0.0111 - accuracy: 0.9965\n",
      "Epoch 72/100\n",
      "50000/50000 [==============================] - 8s 151us/step - loss: 0.0117 - accuracy: 0.9965\n",
      "Epoch 73/100\n",
      "50000/50000 [==============================] - 8s 151us/step - loss: 0.0188 - accuracy: 0.9945\n",
      "Epoch 74/100\n",
      "50000/50000 [==============================] - 8s 151us/step - loss: 0.0199 - accuracy: 0.9942\n",
      "Epoch 75/100\n",
      "50000/50000 [==============================] - 8s 151us/step - loss: 0.0167 - accuracy: 0.9953\n",
      "Epoch 76/100\n"
     ]
    },
    {
     "name": "stdout",
     "output_type": "stream",
     "text": [
      "50000/50000 [==============================] - 7s 150us/step - loss: 0.0135 - accuracy: 0.9958\n",
      "Epoch 77/100\n",
      "50000/50000 [==============================] - 8s 151us/step - loss: 0.0076 - accuracy: 0.9977\n",
      "Epoch 78/100\n",
      "50000/50000 [==============================] - 7s 150us/step - loss: 0.0152 - accuracy: 0.9957\n",
      "Epoch 79/100\n",
      "50000/50000 [==============================] - 8s 151us/step - loss: 0.0176 - accuracy: 0.9951\n",
      "Epoch 80/100\n",
      "50000/50000 [==============================] - 8s 150us/step - loss: 0.0167 - accuracy: 0.9954\n",
      "Epoch 81/100\n",
      "50000/50000 [==============================] - 8s 150us/step - loss: 0.0142 - accuracy: 0.9960\n",
      "Epoch 82/100\n",
      "50000/50000 [==============================] - 8s 150us/step - loss: 0.0178 - accuracy: 0.9949\n",
      "Epoch 83/100\n",
      "50000/50000 [==============================] - 8s 151us/step - loss: 0.0074 - accuracy: 0.9976\n",
      "Epoch 84/100\n",
      "50000/50000 [==============================] - 8s 150us/step - loss: 0.0091 - accuracy: 0.9972\n",
      "Epoch 85/100\n",
      "50000/50000 [==============================] - 8s 152us/step - loss: 0.0169 - accuracy: 0.9949\n",
      "Epoch 86/100\n",
      "50000/50000 [==============================] - 8s 151us/step - loss: 0.0189 - accuracy: 0.9945\n",
      "Epoch 87/100\n",
      "50000/50000 [==============================] - 8s 153us/step - loss: 0.0118 - accuracy: 0.9962\n",
      "Epoch 88/100\n",
      "50000/50000 [==============================] - 8s 151us/step - loss: 0.0083 - accuracy: 0.9975\n",
      "Epoch 89/100\n",
      "50000/50000 [==============================] - 8s 151us/step - loss: 0.0113 - accuracy: 0.9965\n",
      "Epoch 90/100\n",
      "50000/50000 [==============================] - 8s 152us/step - loss: 0.0117 - accuracy: 0.9967\n",
      "Epoch 91/100\n",
      "50000/50000 [==============================] - 8s 152us/step - loss: 0.0136 - accuracy: 0.9962\n",
      "Epoch 92/100\n",
      "50000/50000 [==============================] - 8s 151us/step - loss: 0.0171 - accuracy: 0.9954\n",
      "Epoch 93/100\n",
      "50000/50000 [==============================] - 8s 151us/step - loss: 0.0128 - accuracy: 0.9963\n",
      "Epoch 94/100\n",
      "50000/50000 [==============================] - 8s 152us/step - loss: 0.0088 - accuracy: 0.9972\n",
      "Epoch 95/100\n",
      "50000/50000 [==============================] - 8s 153us/step - loss: 0.0122 - accuracy: 0.9959\n",
      "Epoch 96/100\n",
      "50000/50000 [==============================] - 8s 151us/step - loss: 0.0135 - accuracy: 0.9960\n",
      "Epoch 97/100\n",
      "50000/50000 [==============================] - 8s 152us/step - loss: 0.0130 - accuracy: 0.9960\n",
      "Epoch 98/100\n",
      "50000/50000 [==============================] - 8s 152us/step - loss: 0.0129 - accuracy: 0.9958\n",
      "Epoch 99/100\n",
      "50000/50000 [==============================] - 8s 152us/step - loss: 0.0080 - accuracy: 0.9978\n",
      "Epoch 100/100\n",
      "50000/50000 [==============================] - 8s 151us/step - loss: 0.0045 - accuracy: 0.9987\n"
     ]
    },
    {
     "data": {
      "text/plain": [
       "<keras.callbacks.callbacks.History at 0x7f3e3da31f90>"
      ]
     },
     "execution_count": 6,
     "metadata": {},
     "output_type": "execute_result"
    }
   ],
   "source": [
    "classifier=Sequential()\n",
    "\n",
    "#卷積組合\n",
    "classifier.add(Convolution2D(32, (3,3), input_shape = (32, 32, 3), activation = 'relu'))#32,3,3,input_shape=(32,32,3),activation='relu''\n",
    "classifier.add(BatchNormalization())\n",
    "\n",
    "'''自己決定MaxPooling2D放在哪裡'''\n",
    "classifier.add(MaxPooling2D(pool_size=(2,2)))\n",
    "\n",
    "#卷積組合\n",
    "classifier.add(Convolution2D(64, (3, 3), activation = 'relu'))\n",
    "classifier.add(BatchNormalization())\n",
    "\n",
    "#flatten\n",
    "classifier.add(Flatten())\n",
    "\n",
    "#FC\n",
    "classifier.add(Dense(100, activation = 'relu')) #output_dim=100,activation=relu\n",
    "\n",
    "#輸出\n",
    "classifier.add(Dense(output_dim=10,activation= 'softmax'))\n",
    "\n",
    "#超過兩個就要選categorical_crossentrophy\n",
    "classifier.compile(optimizer = 'adam', loss = 'categorical_crossentropy', metrics = ['accuracy'])\n",
    "classifier.fit(x_train,y_train,batch_size=100,epochs=100)"
   ]
  },
  {
   "cell_type": "markdown",
   "metadata": {},
   "source": [
    "## 預測新圖片，輸入影像前處理要與訓練時相同\n",
    "#### ((X-mean)/(std+1e-7) ):這裡的mean跟std是訓練集的\n",
    "## 維度如下方示範"
   ]
  },
  {
   "cell_type": "code",
   "execution_count": 7,
   "metadata": {},
   "outputs": [
    {
     "data": {
      "text/plain": [
       "array([[6.0455627e-09, 2.0930256e-15, 2.1434605e-12, 9.9998987e-01,\n",
       "        1.0107487e-05, 8.9032258e-16, 1.2281121e-11, 6.8939445e-13,\n",
       "        1.7985649e-09, 1.1705200e-17]], dtype=float32)"
      ]
     },
     "execution_count": 7,
     "metadata": {},
     "output_type": "execute_result"
    }
   ],
   "source": [
    "input_example=(np.zeros(shape=(1,32,32,3))-mean_train)/(std_train+1e-7) \n",
    "classifier.predict(input_example)"
   ]
  },
  {
   "cell_type": "code",
   "execution_count": null,
   "metadata": {},
   "outputs": [],
   "source": []
  }
 ],
 "metadata": {
  "kernelspec": {
   "display_name": "Python 3",
   "language": "python",
   "name": "python3"
  },
  "language_info": {
   "codemirror_mode": {
    "name": "ipython",
    "version": 3
   },
   "file_extension": ".py",
   "mimetype": "text/x-python",
   "name": "python",
   "nbconvert_exporter": "python",
   "pygments_lexer": "ipython3",
   "version": "3.7.6"
  }
 },
 "nbformat": 4,
 "nbformat_minor": 2
}
